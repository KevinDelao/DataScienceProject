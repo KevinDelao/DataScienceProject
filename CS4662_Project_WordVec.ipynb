{
 "cells": [
  {
   "cell_type": "code",
   "execution_count": 1,
   "metadata": {},
   "outputs": [],
   "source": [
    "\n",
    "import pandas as pd\n",
    "import numpy as np\n",
    "import json\n",
    "import nltk\n",
    "import re\n",
    "import csv\n",
    "import matplotlib.pyplot as plt \n",
    "import seaborn as sns\n",
    "from tqdm import tqdm\n",
    "from sklearn.feature_extraction.text import TfidfVectorizer\n",
    "from sklearn.model_selection import train_test_split"
   ]
  },
  {
   "cell_type": "code",
   "execution_count": 2,
   "metadata": {},
   "outputs": [],
   "source": [
    "df = pd.read_csv(\"book_data.csv\")\n",
    "df_temp = pd.read_csv(\"book_data.csv\")"
   ]
  },
  {
   "cell_type": "code",
   "execution_count": 3,
   "metadata": {},
   "outputs": [],
   "source": [
    "X_desc = df['book_desc']\n",
    "y_genre = df['genres']"
   ]
  },
  {
   "cell_type": "code",
   "execution_count": 4,
   "metadata": {
    "scrolled": true
   },
   "outputs": [
    {
     "data": {
      "text/plain": [
       "0        Young Adult|Fiction|Science Fiction|Dystopia|F...\n",
       "1                              Fantasy|Young Adult|Fiction\n",
       "2        Classics|Fiction|Historical|Historical Fiction...\n",
       "3                                 Classics|Fiction|Romance\n",
       "4        Young Adult|Fantasy|Romance|Paranormal|Vampire...\n",
       "                               ...                        \n",
       "54296    Sports|Baseball|Sports and Games|Sports|Nonfic...\n",
       "54297                   Nonfiction|Sports and Games|Sports\n",
       "54298                            Sports|Baseball|Abandoned\n",
       "54299    Nonfiction|Autobiography|Memoir|Biography|Psyc...\n",
       "54300    Criticism|Literary Criticism|Philosophy|Theory...\n",
       "Name: genres, Length: 54301, dtype: object"
      ]
     },
     "execution_count": 4,
     "metadata": {},
     "output_type": "execute_result"
    }
   ],
   "source": [
    "df['genres']"
   ]
  },
  {
   "cell_type": "code",
   "execution_count": 5,
   "metadata": {},
   "outputs": [
    {
     "name": "stderr",
     "output_type": "stream",
     "text": [
      "C:\\Users\\kevin\\Anaconda3\\lib\\site-packages\\ipykernel_launcher.py:6: SettingWithCopyWarning: \n",
      "A value is trying to be set on a copy of a slice from a DataFrame\n",
      "\n",
      "See the caveats in the documentation: http://pandas.pydata.org/pandas-docs/stable/user_guide/indexing.html#returning-a-view-versus-a-copy\n",
      "  \n",
      "C:\\Users\\kevin\\Anaconda3\\lib\\site-packages\\ipykernel_launcher.py:14: SettingWithCopyWarning: \n",
      "A value is trying to be set on a copy of a slice from a DataFrame\n",
      "\n",
      "See the caveats in the documentation: http://pandas.pydata.org/pandas-docs/stable/user_guide/indexing.html#returning-a-view-versus-a-copy\n",
      "  \n"
     ]
    }
   ],
   "source": [
    "#Convert Genres which are strings to dictionaries in order to obtain values\n",
    "for i in range(0,54301):\n",
    "    WordList = ''\n",
    "    counter = 1\n",
    "    Word_Dic = {}\n",
    "    df['genres'][i] = str(df['genres'][i])+'|'\n",
    "    for k in df['genres'][i]:\n",
    "        if(k != '|'):\n",
    "            WordList = WordList+k\n",
    "        if(k=='|'):\n",
    "            Word_Dic[counter] = WordList\n",
    "            counter = counter+1\n",
    "            WordList = ''\n",
    "    df['genres'][i] = Word_Dic\n",
    "      "
   ]
  },
  {
   "cell_type": "code",
   "execution_count": 6,
   "metadata": {},
   "outputs": [
    {
     "data": {
      "text/plain": [
       "dict_values(['Young Adult', 'Fiction', 'Science Fiction', 'Dystopia', 'Fantasy', 'Science Fiction'])"
      ]
     },
     "execution_count": 6,
     "metadata": {},
     "output_type": "execute_result"
    }
   ],
   "source": [
    "#now that dictionary I can get idividual values of labels\n",
    "df['genres'][0].values()"
   ]
  },
  {
   "cell_type": "code",
   "execution_count": 7,
   "metadata": {},
   "outputs": [],
   "source": [
    "# an empty list\n",
    "genres = [] \n",
    "\n",
    "# extract genres\n",
    "for i in df['genres']: \n",
    "    genres.append(list(i.values())) \n",
    "\n",
    "# add to genres dataframe  \n",
    "df['genre_new'] = genres"
   ]
  },
  {
   "cell_type": "code",
   "execution_count": 8,
   "metadata": {},
   "outputs": [],
   "source": [
    "df_new = df[~(df['genre_new'].str.len() == 0)]"
   ]
  },
  {
   "cell_type": "code",
   "execution_count": 9,
   "metadata": {},
   "outputs": [
    {
     "data": {
      "text/plain": [
       "867"
      ]
     },
     "execution_count": 9,
     "metadata": {},
     "output_type": "execute_result"
    }
   ],
   "source": [
    "#get number of unique genres\n",
    "all_genres = sum(genres,[])\n",
    "len(set(all_genres))"
   ]
  },
  {
   "cell_type": "code",
   "execution_count": 10,
   "metadata": {},
   "outputs": [],
   "source": [
    "#count all genres\n",
    "all_genres = nltk.FreqDist(all_genres) \n",
    "\n",
    "# create dataframe\n",
    "all_genres_df = pd.DataFrame({'Genre': list(all_genres.keys()), \n",
    "                              'Count': list(all_genres.values())})"
   ]
  },
  {
   "cell_type": "code",
   "execution_count": 11,
   "metadata": {
    "scrolled": false
   },
   "outputs": [
    {
     "data": {
      "image/png": "[encoded data removed]",
      "text/plain": [
       "<Figure size 864x1080 with 1 Axes>"
      ]
     },
     "metadata": {
      "needs_background": "light"
     },
     "output_type": "display_data"
    }
   ],
   "source": [
    "#plot genres to show 50 most frequent genres\n",
    "g = all_genres_df.nlargest(columns=\"Count\", n = 25) \n",
    "plt.figure(figsize=(12,15)) \n",
    "ax = sns.barplot(data=g, x= \"Count\", y = \"Genre\") \n",
    "ax.set(ylabel = 'Genre') \n",
    "plt.show()"
   ]
  },
  {
   "cell_type": "code",
   "execution_count": 12,
   "metadata": {},
   "outputs": [],
   "source": [
    "# function for text cleaning \n",
    "#will remove noisy words from book descriptions\n",
    "def clean_text(text):\n",
    "    text = str(text)\n",
    "    # remove backslash-apostrophe \n",
    "    text = re.sub(\"\\'\", \"\", text) \n",
    "    # remove everything except alphabets \n",
    "    text = re.sub(\"[^a-zA-Z]\",\" \",text) \n",
    "    # remove whitespaces \n",
    "    text = ' '.join(text.split()) \n",
    "    # convert text to lowercase \n",
    "    text = text.lower() \n",
    "    \n",
    "    return text"
   ]
  },
  {
   "cell_type": "code",
   "execution_count": 13,
   "metadata": {},
   "outputs": [],
   "source": [
    "#apply clean_text function\n",
    "df_new['clean_book_desc'] = df_new['book_desc'].apply(lambda x: clean_text(x))"
   ]
  },
  {
   "cell_type": "code",
   "execution_count": 14,
   "metadata": {},
   "outputs": [
    {
     "data": {
      "image/png": "[encoded data removed]",
      "text/plain": [
       "<Figure size 864x1080 with 1 Axes>"
      ]
     },
     "metadata": {
      "needs_background": "light"
     },
     "output_type": "display_data"
    }
   ],
   "source": [
    "#Plot most frequent words in book description\n",
    "def freq_words(x, terms = 30): \n",
    "    all_words = ' '.join([text for text in x]) \n",
    "    all_words = all_words.split() \n",
    "    fdist = nltk.FreqDist(all_words) \n",
    "    words_df = pd.DataFrame({'word':list(fdist.keys()), 'count':list(fdist.values())}) \n",
    "  \n",
    "  # selecting top 20 most frequent words \n",
    "    d = words_df.nlargest(columns=\"count\", n = terms) \n",
    "  \n",
    "  # visualize words and frequencies\n",
    "    plt.figure(figsize=(12,15)) \n",
    "    ax = sns.barplot(data=d, x= \"count\", y = \"word\") \n",
    "    ax.set(ylabel = 'Word') \n",
    "    plt.show()\n",
    "  # print 100 most frequent words \n",
    "freq_words(df_new['clean_book_desc'], 25)"
   ]
  },
  {
   "cell_type": "code",
   "execution_count": 15,
   "metadata": {},
   "outputs": [],
   "source": [
    "#nltk.download('stopwords')"
   ]
  },
  {
   "cell_type": "code",
   "execution_count": 16,
   "metadata": {},
   "outputs": [],
   "source": [
    "#stop words \n",
    "from nltk.corpus import stopwords\n",
    "stop_words = set(stopwords.words('english'))\n",
    "\n",
    "# function to remove stopwords\n",
    "def remove_stopwords(text):\n",
    "    no_stopword_text = [w for w in text.split() if not w in stop_words]\n",
    "    return ' '.join(no_stopword_text)\n",
    "\n",
    "df_new['clean_book_desc']= df_new['clean_book_desc'].apply(lambda x: remove_stopwords(x))"
   ]
  },
  {
   "cell_type": "code",
   "execution_count": 17,
   "metadata": {},
   "outputs": [
    {
     "data": {
      "image/png": "[encoded data removed]",
      "text/plain": [
       "<Figure size 864x1080 with 1 Axes>"
      ]
     },
     "metadata": {
      "needs_background": "light"
     },
     "output_type": "display_data"
    }
   ],
   "source": [
    "freq_words(df_new['clean_book_desc'], 25)\n"
   ]
  },
  {
   "cell_type": "code",
   "execution_count": 18,
   "metadata": {},
   "outputs": [],
   "source": [
    "#convert labels that are dictionaries with multiple values into multilabel columns using mulilabelbinarizer, similar\n",
    "#to onehotencoding\n",
    "from sklearn.preprocessing import MultiLabelBinarizer\n",
    "\n",
    "multilabel_binarizer = MultiLabelBinarizer()\n",
    "multilabel_binarizer.fit(df_new['genre_new'])\n",
    "\n",
    "# transform target variable\n",
    "y = multilabel_binarizer.transform(df_new['genre_new'])\n"
   ]
  },
  {
   "cell_type": "code",
   "execution_count": 19,
   "metadata": {},
   "outputs": [],
   "source": [
    "import nltk\n",
    "# nltk.download('punkt')\n",
    "import string  \n",
    "from nltk.tokenize import word_tokenize\n",
    "\n",
    "#going to use word2vec for word embedding, need to tokenize words first to pass them to embedding layer of NN\n",
    "word_lines = list()\n",
    "lines = df_new['clean_book_desc'].values.tolist()\n",
    "\n",
    "for line in lines:   \n",
    "    tokens = word_tokenize(line)\n",
    "    # to lower case\n",
    "    tokens = [w.lower() for w in tokens]\n",
    "    # remove punctuation from each word    \n",
    "    table = str.maketrans('', '', string.punctuation)\n",
    "    stripped = [w.translate(table) for w in tokens]\n",
    "    # dont want token without alphabetic letters\n",
    "    words = [word for word in stripped if word.isalpha()]\n",
    "    word_lines.append(words)"
   ]
  },
  {
   "cell_type": "code",
   "execution_count": 20,
   "metadata": {},
   "outputs": [
    {
     "name": "stderr",
     "output_type": "stream",
     "text": [
      "unable to import 'smart_open.gcs', disabling that module\n"
     ]
    },
    {
     "name": "stdout",
     "output_type": "stream",
     "text": [
      "Vocabulary size: 221319\n"
     ]
    }
   ],
   "source": [
    "#!pip install -U gensim\n",
    "import gensim \n",
    "\n",
    "#now extract features using word2 vec\n",
    "EMBEDDING_DIM = 100\n",
    "# train word2vec model\n",
    "model = gensim.models.Word2Vec(sentences=word_lines, size=EMBEDDING_DIM, window=5, workers=4, min_count=1)\n",
    "# vocab size\n",
    "words = list(model.wv.vocab)\n",
    "print('Vocabulary size: %d' % len(words))"
   ]
  },
  {
   "cell_type": "code",
   "execution_count": 21,
   "metadata": {},
   "outputs": [],
   "source": [
    "# save model \n",
    "filename = 'books_word2vec.txt'\n",
    "model.wv.save_word2vec_format(filename, binary=False)"
   ]
  },
  {
   "cell_type": "code",
   "execution_count": 22,
   "metadata": {},
   "outputs": [
    {
     "data": {
      "text/plain": [
       "[('comfortable', 0.8385007381439209),\n",
       " ('enjoying', 0.81908118724823),\n",
       " ('katie', 0.8117479085922241),\n",
       " ('crazy', 0.8058168888092041),\n",
       " ('lucky', 0.8049802780151367),\n",
       " ('talk', 0.8031377792358398),\n",
       " ('loving', 0.803051233291626),\n",
       " ('maybe', 0.7970752716064453),\n",
       " ('proper', 0.7952426671981812),\n",
       " ('definitely', 0.7935829162597656)]"
      ]
     },
     "execution_count": 22,
     "metadata": {},
     "output_type": "execute_result"
    }
   ],
   "source": [
    "model.wv.most_similar('happy')"
   ]
  },
  {
   "cell_type": "code",
   "execution_count": 23,
   "metadata": {},
   "outputs": [],
   "source": [
    "import os\n",
    "\n",
    "#load saved model\n",
    "embeddings_index = {}\n",
    "f = open(os.path.join('', 'books_word2vec.txt'),  encoding = \"utf-8\")\n",
    "for line in f:\n",
    "    values = line.split()\n",
    "    word = values[0]\n",
    "    coefs = np.asarray(values[1:])\n",
    "    embeddings_index[word] = coefs\n",
    "f.close()"
   ]
  },
  {
   "cell_type": "code",
   "execution_count": 24,
   "metadata": {},
   "outputs": [],
   "source": [
    "#will need total number of rows we are \n",
    "total_book_desc = df_new['clean_book_desc']\n",
    "max_length = 200 # try other options like mean of sentence lengths"
   ]
  },
  {
   "cell_type": "code",
   "execution_count": 25,
   "metadata": {},
   "outputs": [
    {
     "name": "stdout",
     "output_type": "stream",
     "text": [
      "Found 221319 unique tokens.\n",
      "Shape of word tensor: (54301, 200)\n",
      "Shape of genre tensor: (54301,)\n"
     ]
    }
   ],
   "source": [
    "#here to actually represent our text data in our network we need to convert each word to a unique integer\n",
    "#This step is crucial in order to be able to properly word embedd\n",
    "from tensorflow.python.keras.preprocessing.text import Tokenizer\n",
    "from tensorflow.python.keras.preprocessing.sequence import pad_sequences\n",
    "\n",
    "# vectorize the text samples into a 2D integer tensor\n",
    "tokenizer_obj = Tokenizer()\n",
    "tokenizer_obj.fit_on_texts(word_lines)\n",
    "sequences = tokenizer_obj.texts_to_sequences(word_lines)\n",
    "\n",
    "# pad sequences\n",
    "word_index = tokenizer_obj.word_index\n",
    "print('Found %s unique tokens.' % len(word_index))\n",
    "\n",
    "desc_pad = pad_sequences(sequences, maxlen=max_length)\n",
    "genres_pad =  df_new['genre_new'].values\n",
    "print('Shape of word tensor:', desc_pad.shape)\n",
    "print('Shape of genre tensor:', genres_pad.shape)\n"
   ]
  },
  {
   "cell_type": "code",
   "execution_count": 63,
   "metadata": {},
   "outputs": [],
   "source": [
    "xtrain, xval, ytrain, yval = train_test_split(desc_pad, y, test_size=0.2, random_state=42)"
   ]
  },
  {
   "cell_type": "code",
   "execution_count": 64,
   "metadata": {},
   "outputs": [],
   "source": [
    "EMBEDDING_DIM =100\n",
    "num_words = len(word_index) + 1\n",
    "embedding_matrix = np.zeros((num_words, EMBEDDING_DIM))\n",
    "\n",
    "for word, i in word_index.items():\n",
    "    if i > num_words:\n",
    "        continue\n",
    "    embedding_vector = embeddings_index.get(word)\n",
    "    if embedding_vector is not None:\n",
    "        # words not found in embedding index will be all-zeros.\n",
    "        embedding_matrix[i] = embedding_vector"
   ]
  },
  {
   "cell_type": "code",
   "execution_count": 65,
   "metadata": {
    "scrolled": true
   },
   "outputs": [
    {
     "name": "stdout",
     "output_type": "stream",
     "text": [
      "221320\n"
     ]
    }
   ],
   "source": [
    "print(num_words)"
   ]
  },
  {
   "cell_type": "code",
   "execution_count": 66,
   "metadata": {},
   "outputs": [],
   "source": [
    "import keras.backend as K\n",
    "\n",
    "def precision(y_true, y_pred): #taken from old keras source code\n",
    "    true_positives = K.sum(K.round(K.clip(y_true * y_pred, 0, 1)))\n",
    "    predicted_positives = K.sum(K.round(K.clip(y_pred, 0, 1)))\n",
    "    precision = true_positives / (predicted_positives + K.epsilon())\n",
    "    return precision"
   ]
  },
  {
   "cell_type": "code",
   "execution_count": 67,
   "metadata": {},
   "outputs": [
    {
     "name": "stdout",
     "output_type": "stream",
     "text": [
      "Model: \"sequential_6\"\n",
      "_________________________________________________________________\n",
      "Layer (type)                 Output Shape              Param #   \n",
      "=================================================================\n",
      "embedding_6 (Embedding)      (None, 200, 100)          22132000  \n",
      "_________________________________________________________________\n",
      "lstm_11 (LSTM)               (None, 200, 128)          117248    \n",
      "_________________________________________________________________\n",
      "dropout_11 (Dropout)         (None, 200, 128)          0         \n",
      "_________________________________________________________________\n",
      "lstm_12 (LSTM)               (None, 64)                49408     \n",
      "_________________________________________________________________\n",
      "dropout_12 (Dropout)         (None, 64)                0         \n",
      "_________________________________________________________________\n",
      "dense_6 (Dense)              (None, 867)               56355     \n",
      "=================================================================\n",
      "Total params: 22,355,011\n",
      "Trainable params: 223,011\n",
      "Non-trainable params: 22,132,000\n",
      "_________________________________________________________________\n"
     ]
    }
   ],
   "source": [
    "from keras.models import Sequential\n",
    "from keras.layers import Dense, Embedding, LSTM, GRU\n",
    "from keras.layers.embeddings import Embedding\n",
    "from keras.initializers import Constant\n",
    "from keras.layers import Dropout\n",
    "from sklearn.metrics import hamming_loss\n",
    "\n",
    "model = Sequential()\n",
    "embedding_layer = Embedding(num_words,\n",
    "                            EMBEDDING_DIM,\n",
    "                            embeddings_initializer=Constant(embedding_matrix),\n",
    "                            input_length=max_length,\n",
    "                            trainable=False)\n",
    "model.add(embedding_layer)   \n",
    "model.add(LSTM(128, return_sequences=True))  \n",
    "model.add(Dropout(0.5))\n",
    "model.add(LSTM(64))\n",
    "model.add(Dropout(0.5))\n",
    "# Adding a dense output layer with sigmoid activation\n",
    "model.add(Dense(867, activation='sigmoid'))\n",
    "model.compile(optimizer='adam', loss='binary_crossentropy',metrics=[precision])\n",
    "model.summary()\n"
   ]
  },
  {
   "cell_type": "code",
   "execution_count": null,
   "metadata": {},
   "outputs": [],
   "source": [
    "# from sklearn.model_selection import KFold, cross_val_score\n",
    "# from sklearn.model_selection import KFold\n",
    "# kfold = KFold(n_splits=10, shuffle=True)\n",
    "\n",
    "# # K-fold Cross Validation model evaluation\n",
    "# fold_no = 1\n",
    "# for train, test in kfold.split(desc_pad, y):\n",
    "\n",
    "#   # Define the model architecture\n",
    "#     model = Sequential()\n",
    "#     embedding_layer = Embedding(num_words,\n",
    "#                             EMBEDDING_DIM,\n",
    "#                             embeddings_initializer=Constant(embedding_matrix),\n",
    "#                             input_length=max_length,\n",
    "#                             trainable=False)\n",
    "#     model.add(embedding_layer)   \n",
    "#     model.add(LSTM(128, return_sequences=True))  \n",
    "#     model.add(Dropout(0.5))\n",
    "#     model.add(LSTM(64))\n",
    "#     model.add(Dropout(0.5))\n",
    "#     # Adding a dense output layer with sigmoid activation\n",
    "#     model.add(Dense(867, activation='sigmoid'))\n",
    "#     model.compile(optimizer='adam', loss='binary_crossentropy',metrics=['accuracy'])\n",
    "\n",
    "\n",
    "#   # Generate a print\n",
    "#     print('------------------------------------------------------------------------')\n",
    "#     print(f'Training for fold {fold_no} ...')\n",
    "\n",
    "#   # Fit data to model\n",
    "#     history = model.fit(desc_pad[train], y[train],\n",
    "#                     class_weight='balanced',\n",
    "#                     epochs=5,\n",
    "#                     batch_size=32,\n",
    "#                     validation_split=0.2,\n",
    "#                     callbacks=[],verbose=2)  \n",
    "#      predictions=model.predict(desc_pad[test])\n",
    "#             thresh = .12\n",
    "#             pred=predictions.copy()\n",
    "#             pred[pred>=thresh]=1\n",
    "#             pred[pred<thresh]=0\n",
    "  \n",
    "#             precision = precision_score(yval, pred, average='micro')\n",
    "#             recall = recall_score(yval, pred, average='micro')\n",
    "#             f1 = f1_score(yval, pred, average='micro')\n",
    "\n",
    "#     print(\"Micro-average quality numbers\")\n",
    "#     print(\"Precision: {:.4f}, Recall: {:.4f}, F1-measure: {:.4f}\".format(precision, recall, f1))\n",
    "#   # Generate generalization metrics\n",
    "#     scores = model.evaluate(desc_pad[test], y[test], verbose=2)\n",
    "# #     print(f'Score for fold {fold_no}: {model.metrics_names[0]} of {scores[0]}; {model.metrics_names[1]} of {scores[1]*100}%')\n",
    "# #     acc_per_fold.append(scores[1] * 100)\n",
    "# #     loss_per_fold.append(scores[0])\n",
    "\n",
    "#   # Increase fold number\n",
    "#     fold_no = fold_no + 1\n",
    "\n",
    "# # == Provide average scores ==\n",
    "# print('------------------------------------------------------------------------')\n",
    "# print('Score per fold')\n",
    "    "
   ]
  },
  {
   "cell_type": "code",
   "execution_count": 68,
   "metadata": {},
   "outputs": [
    {
     "name": "stdout",
     "output_type": "stream",
     "text": [
      "Train on 34752 samples, validate on 8688 samples\n",
      "Epoch 1/5\n",
      " - 513s - loss: 0.0407 - precision: 0.4475 - val_loss: 0.0359 - val_precision: 0.4793\n",
      "Epoch 2/5\n",
      " - 518s - loss: 0.0351 - precision: 0.4980 - val_loss: 0.0327 - val_precision: 0.1526\n",
      "Epoch 3/5\n",
      " - 516s - loss: 0.0332 - precision: 0.4939 - val_loss: 0.0322 - val_precision: 0.0000e+00\n",
      "Epoch 4/5\n",
      " - 517s - loss: 0.0327 - precision: 0.4547 - val_loss: 0.0320 - val_precision: 0.0000e+00\n",
      "Epoch 5/5\n",
      " - 519s - loss: 0.0324 - precision: 0.4117 - val_loss: 0.0316 - val_precision: 0.0000e+00\n"
     ]
    }
   ],
   "source": [
    "history = model.fit(xtrain, ytrain,\n",
    "                    class_weight='balanced',\n",
    "                    epochs=5,\n",
    "                    batch_size=32,\n",
    "                    validation_split=0.2,\n",
    "                    callbacks=[],verbose=2)      "
   ]
  },
  {
   "cell_type": "code",
   "execution_count": 69,
   "metadata": {},
   "outputs": [
    {
     "name": "stdout",
     "output_type": "stream",
     "text": [
      "Micro-average quality numbers\n",
      "Precision: 0.2070, Recall: 0.4012, F1-measure: 0.2731\n",
      "Micro-average quality numbers\n",
      "Precision: 0.3615, Recall: 0.2101, F1-measure: 0.2657\n",
      "Micro-average quality numbers\n",
      "Precision: 0.4852, Recall: 0.1103, F1-measure: 0.1797\n",
      "Micro-average quality numbers\n",
      "Precision: 0.4752, Recall: 0.0983, F1-measure: 0.1629\n"
     ]
    }
   ],
   "source": [
    "from sklearn.metrics import precision_score\n",
    "from sklearn.metrics import f1_score\n",
    "from sklearn.metrics import recall_score\n",
    "import matplotlib.pyplot as plt\n",
    "from sklearn.metrics import hamming_loss\n",
    "thresholds=[0.1,0.2,0.3,0.4]\n",
    "predictions=model.predict(xval)\n",
    "for val in thresholds:\n",
    "\n",
    "    pred=predictions.copy()\n",
    "  \n",
    "    pred[pred>=val]=1\n",
    "    pred[pred<val]=0\n",
    "  \n",
    "    precision = precision_score(yval, pred, average='micro')\n",
    "    recall = recall_score(yval, pred, average='micro')\n",
    "    f1 = f1_score(yval, pred, average='micro')\n",
    "   \n",
    "\n",
    "    print(\"Micro-average quality numbers\")\n",
    "    print(\"Precision: {:.4f}, Recall: {:.4f}, F1-measure: {:.4f}\".format(precision, recall, f1))\n"
   ]
  },
  {
   "cell_type": "code",
   "execution_count": 70,
   "metadata": {},
   "outputs": [
    {
     "data": {
      "text/plain": [
       "('Fantasy', 'Fiction', 'Historical', 'Nonfiction', 'Romance', 'Young Adult')"
      ]
     },
     "execution_count": 70,
     "metadata": {},
     "output_type": "execute_result"
    }
   ],
   "source": [
    "thresh =.12\n",
    "pred=predictions.copy()\n",
    "pred[pred>=thresh]=1\n",
    "pred[pred<thresh]=0\n",
    "multilabel_binarizer.inverse_transform(pred)[5]"
   ]
  },
  {
   "cell_type": "code",
   "execution_count": 71,
   "metadata": {},
   "outputs": [
    {
     "data": {
      "text/plain": [
       "dict_values(['Historical', 'Historical Fiction', 'Fiction', 'Young Adult'])"
      ]
     },
     "execution_count": 71,
     "metadata": {},
     "output_type": "execute_result"
    }
   ],
   "source": [
    "df['genres'][5].values()"
   ]
  },
  {
   "cell_type": "code",
   "execution_count": 59,
   "metadata": {},
   "outputs": [
    {
     "name": "stdout",
     "output_type": "stream",
     "text": [
      "Testing...\n",
      "Test score: [0.02254092692831512, 0.0]\n",
      "Test accuracy: 0.0\n",
      "Accuracy: 0.00%\n"
     ]
    }
   ],
   "source": [
    "print('Testing...')\n",
    "score = model.evaluate(xval, yval,  verbose=2)\n",
    "\n",
    "print('Test score:', score)\n",
    "print('Test accuracy:', acc)\n",
    "\n",
    "print(\"Accuracy: {0:.2%}\".format(acc))"
   ]
  },
  {
   "cell_type": "code",
   "execution_count": null,
   "metadata": {},
   "outputs": [],
   "source": [
    "# #Let us test some  samples\n",
    "# # load the dataset but only keep the top n words, zero the rest\n",
    "\n",
    "# test_sample_1 = \"Winning will make you famous\"\n",
    "# test_sample_2 = \"In this fearless and half-crazy story\"\n",
    "# test_sample_3 = \"Maybe I like this movie.\"\n",
    "# test_sample_4 = \"Not to my taste, will skip and watch another movie\"\n",
    "# test_sample_5 = \"if you like action, then this movie might be good for you.\"\n",
    "# test_sample_6 = \"Bad movie!\"\n",
    "# test_sample_7 = \"Not a good movie!\"\n",
    "# test_sample_8 = \"This movie really sucks! Can I get my money back please?\"\n",
    "# test_samples = [test_sample_1, test_sample_2, test_sample_3, test_sample_4, test_sample_5, test_sample_6, test_sample_7, test_sample_8]\n",
    "\n",
    "# test_samples_tokens = tokenizer_obj.texts_to_sequences(test_samples)\n",
    "# test_samples_tokens_pad = pad_sequences(test_samples_tokens, maxlen=100)\n",
    "\n",
    "# #predict\n",
    "# model.predict(x=test_samples_tokens_pad)"
   ]
  },
  {
   "cell_type": "code",
   "execution_count": 72,
   "metadata": {},
   "outputs": [
    {
     "data": {
      "image/png": "[encoded data removed]",
      "text/plain": [
       "<Figure size 432x288 with 1 Axes>"
      ]
     },
     "metadata": {
      "needs_background": "light"
     },
     "output_type": "display_data"
    },
    {
     "data": {
      "image/png": "[encoded data removed]",
      "text/plain": [
       "<Figure size 432x288 with 1 Axes>"
      ]
     },
     "metadata": {
      "needs_background": "light"
     },
     "output_type": "display_data"
    }
   ],
   "source": [
    "import matplotlib.pyplot as plt\n",
    "\n",
    "plt.plot(history.history['precision'])\n",
    "# plt.plot(history.history['val_accuracy'])\n",
    "\n",
    "plt.title('model accuracy')\n",
    "plt.ylabel('accuracy')\n",
    "plt.xlabel('epoch')\n",
    "plt.legend(['train','test'], loc='lower left')\n",
    "plt.show()\n",
    "\n",
    "plt.plot(history.history['loss'])\n",
    "plt.plot(history.history['val_loss'])\n",
    "\n",
    "plt.title('model loss')\n",
    "plt.ylabel('loss')\n",
    "plt.xlabel('epoch')\n",
    "plt.legend(['train','test'], loc='lower left')\n",
    "plt.show()"
   ]
  },
  {
   "cell_type": "code",
   "execution_count": null,
   "metadata": {},
   "outputs": [],
   "source": []
  },
  {
   "cell_type": "code",
   "execution_count": null,
   "metadata": {},
   "outputs": [],
   "source": []
  }
 ],
 "metadata": {
  "kernelspec": {
   "display_name": "Python 3",
   "language": "python",
   "name": "python3"
  },
  "language_info": {
   "codemirror_mode": {
    "name": "ipython",
    "version": 3
   },
   "file_extension": ".py",
   "mimetype": "text/x-python",
   "name": "python",
   "nbconvert_exporter": "python",
   "pygments_lexer": "ipython3",
   "version": "3.7.4"
  }
 },
 "nbformat": 4,
 "nbformat_minor": 2
}
